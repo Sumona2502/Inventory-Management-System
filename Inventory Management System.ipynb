{
 "cells": [
  {
   "cell_type": "markdown",
   "id": "83adf63f",
   "metadata": {},
   "source": [
    "# Records for Inventory Management System¶"
   ]
  },
  {
   "cell_type": "code",
   "execution_count": 1,
   "id": "9d79dae5",
   "metadata": {},
   "outputs": [],
   "source": [
    "records =  {       10001 : {\"Name\": \"ParleG\" , \"Qnt\": \"400 Grm\" , \"Ctgry\": \"Biscuit\" , \"pkt\": \"300\" , \"pr\" : \"80 rs\"  },\n",
    "                   10002 :{\"Name\": \"Marie Gold\" , \"Qnt\": \"400 Grm\" , \"Ctgry\": \"Biscuit\" , \"pkt\": \"400\" , \"pr\" : \"90 rs\"},\n",
    "                   10003 : {\"Name\": \"Patanjali\" , \"Qnt\": \"400 Grm\" , \"Ctgry\": \"Biscuit\" , \"pkt\": \"300\" , \"pr\" : \"70 rs\"},\n",
    "                   10004 : {\"Name\": \"Dark Fantasy\" , \"Qnt\": \"200 Grm\" , \"Ctgry\": \"Biscuit\" , \"pkt\": \"400\" , \"pr\" : \"69 rs\"},\n",
    "                   10005 : {\"Name\": \"Balaji Simply salted chips\" , \"Qnt\": \"40 Grm\" , \"Ctgry\": \"Chips\" , \"pkt\": \"500\" , \"pr\" : \"40 rs\"},\n",
    "                   10006 : {\"Name\": \"Halke Fulke\" , \"Qnt\": \"40 Grm\" , \"Ctgry\": \"Chips\" , \"pkt\": \"400\" , \"pr\" : \"40 rs\"},\n",
    "                   10007 : {\"Name\": \"Chataka Pataka\" , \"Qnt\": \"20 Grm\" , \"Ctgry\": \"Snacks\" , \"pkt\": \"400\" , \"pr\" : \"20 rs\"},\n",
    "                   10008 : {\"Name\": \"Kurkure\" , \"Qnt\": \"20 Grm\" , \"Ctgry\": \"Snacks\" , \"pkt\": \"400\" , \"pr\" : \"20 rs\"},\n",
    "                   10009 : {\"Name\": \"Bingo\" , \"Qnt\": \"40 Grm\" , \"Ctgry\": \"Chips\" , \"pkt\": \"300\" , \"pr\" : \"40 rs\"},\n",
    "                   10010 : {\"Name\": \"Cheese balls\" , \"Qnty\": \"40 Grm\" , \"Ctgry\": \"Snacks\" , \"pkt\": \"400\" , \"pr\" : \"50 rs\"},\n",
    "                   10011 : {\"Name\": \"MilkyBar\" , \"Qnt\": \"10 Grm\" , \"Ctgry\": \"Chocolate\" , \"pkt\": \"500\" , \"pr\" : \"20 rs\"},\n",
    "                   10012 : {\"Name\": \"Cadbury Dairy Milk\" , \"Qnt\": \"20 Grm\" , \"Ctgry\": \"Chocolate\" , \"pkt\": \"400\" , \"pr\" : \"20 rs\"},\n",
    "                   10013 : {\"Name\": \"Oreo\" , \"Qnt\": \"400 Grm\" , \"Ctgry\": \"Biscuit\" , \"pkt\": \"600\" , \"pr\" : \"120 rs\"},\n",
    "                   10014 : {\"Name\": \"MilkBikis\" , \"Qnt\": \"400 Grm\" , \"Ctgry\": \"Biscuit\" , \"pkt\": \"300\" , \"pr\" : \"140 rs\"},\n",
    "                   10015 : {\"Name\": \"Tiger\" , \"Qnt\": \"200 Grm\" , \"Ctgry\": \"Biscuit\" , \"pkt\": \"700\" , \"pr\" : \"150 rs\"},\n",
    "                   10016 : {\"Name\": \"Sunfest\" , \"Qnt\": \"200 Grm\" , \"Ctgry\": \"Biscuit\" , \"pkt\": \"600\" , \"pice\" : \"120 rs\"},\n",
    "                   10017 : {\"Name\": \"Maggi\" , \"Qnt\": \"40 Grm\" , \"Ctgry\": \"Snacks\" , \"pkt\": \"300\" , \"pr\" : \"12 rs\"},\n",
    "                   10018 : {\"Name\": \"Kitkat\" , \"Qnt\": \"40 Grm\" , \"Ctgry\": \"Chocolate\" , \"pkt\": \"600\" , \"pr\" : \"50 rs\"},\n",
    "                   10019 : {\"Name\": \"Nescafe\" , \"Qnt\": \"50 Grm\" , \"Ctgry\": \"Bevarage\" , \"pkt\": \"400\" , \"pr\" : \"170 rs\"},\n",
    "                   10020 : {\"Name\": \"Bru\" , \"Qnt\": \"10 Grm\" , \"Ctgry\": \"Bevarage\" , \"pkt\": \"500\" , \"pr\" : \"10 rs\"},\n",
    "                   10021 : {\"Name\": \"Tata Tea Gold\" , \"Qnt\": \"500 Grm\" , \"Ctgry\": \"Bevarage\" , \"pkt\": \"500\" , \"pr\" : \"250 rs\"},\n",
    "                   10022 : {\"Name\": \"Tata Agani\" , \"Qnt\": \"200 Grm\" , \"Ctgry\": \"Bevarage\" , \"pkt\": \"600\" , \"pr\" : \"180 rs\"},\n",
    "                   10023 : {\"Name\": \"Tazza\" , \"Qnt\": \"200 Grm\" , \"Ctgry\": \"Bevarage\" , \"pkt\": \"700\" , \"pr\" : \"190 rs\"},\n",
    "                   10024 : {\"Name\": \"Lipton Green Tea\" , \"Qnt\": \"100 Grm\" , \"Ctgry\": \"Bevarage\" , \"pkt\": \"300\" , \"pr\" : \"250 rs\"},\n",
    "                   10025 : {\"Name\": \"Lipton Darzeling Tea\" , \"Qnt\": \"100 Grm\" , \"Ctgry\": \"Bevarage\" , \"pkt\": \"400\" , \"pr\" : \"240 rs\"},\n",
    "                   10026 : {\"Name\": \"Tetley\" , \"Qnt\": \"250 Grm\" , \"Ctgry\": \"Bevarage\" , \"pkt\": \"300\" , \"pr\" : \"280 rs\"},\n",
    "                   10027 : {\"Name\": \"Red level\" , \"Qnt\": \"250 Grm\" , \"Ctgry\": \"Beverage\" , \"pkt\": \"400\" , \"pr\" : \"270 rs\"},\n",
    "                   10028 : {\"Name\": \"Taj Mahal\" , \"Qnt\": \"259 Grm\" , \"Ctgry\": \"Beverage\" , \"pkt\": \"500\" , \"pr\" : \"230 rs\"},\n",
    "                   10029 : {\"Name\": \"5 Star\" , \"Qnt\": \"40 Grm\" , \"Ctgry\": \"Chocolate\" , \"pkt\": \"300\" , \"pr\" : \"40 rs\"},\n",
    "                   10030 : {\"Name\": \"Bounce\" , \"Qnt\": \"200 Grm\" , \"Ctgry\": \"Biscuit\" , \"pkt\": \"700\" , \"pr\" : \"260 rs\"}}"
   ]
  },
  {
   "cell_type": "code",
   "execution_count": 2,
   "id": "50783486",
   "metadata": {},
   "outputs": [],
   "source": [
    "import json"
   ]
  },
  {
   "cell_type": "code",
   "execution_count": 3,
   "id": "cf2ae3c1",
   "metadata": {},
   "outputs": [],
   "source": [
    "js = json.dumps(records)"
   ]
  },
  {
   "cell_type": "code",
   "execution_count": 4,
   "id": "5d6adbbf",
   "metadata": {},
   "outputs": [
    {
     "data": {
      "text/plain": [
       "'{\"10001\": {\"Name\": \"ParleG\", \"Qnt\": \"400 Grm\", \"Ctgry\": \"Biscuit\", \"pkt\": \"300\", \"pr\": \"80 rs\"}, \"10002\": {\"Name\": \"Marie Gold\", \"Qnt\": \"400 Grm\", \"Ctgry\": \"Biscuit\", \"pkt\": \"400\", \"pr\": \"90 rs\"}, \"10003\": {\"Name\": \"Patanjali\", \"Qnt\": \"400 Grm\", \"Ctgry\": \"Biscuit\", \"pkt\": \"300\", \"pr\": \"70 rs\"}, \"10004\": {\"Name\": \"Dark Fantasy\", \"Qnt\": \"200 Grm\", \"Ctgry\": \"Biscuit\", \"pkt\": \"400\", \"pr\": \"69 rs\"}, \"10005\": {\"Name\": \"Balaji Simply salted chips\", \"Qnt\": \"40 Grm\", \"Ctgry\": \"Chips\", \"pkt\": \"500\", \"pr\": \"40 rs\"}, \"10006\": {\"Name\": \"Halke Fulke\", \"Qnt\": \"40 Grm\", \"Ctgry\": \"Chips\", \"pkt\": \"400\", \"pr\": \"40 rs\"}, \"10007\": {\"Name\": \"Chataka Pataka\", \"Qnt\": \"20 Grm\", \"Ctgry\": \"Snacks\", \"pkt\": \"400\", \"pr\": \"20 rs\"}, \"10008\": {\"Name\": \"Kurkure\", \"Qnt\": \"20 Grm\", \"Ctgry\": \"Snacks\", \"pkt\": \"400\", \"pr\": \"20 rs\"}, \"10009\": {\"Name\": \"Bingo\", \"Qnt\": \"40 Grm\", \"Ctgry\": \"Chips\", \"pkt\": \"300\", \"pr\": \"40 rs\"}, \"10010\": {\"Name\": \"Cheese balls\", \"Qnty\": \"40 Grm\", \"Ctgry\": \"Snacks\", \"pkt\": \"400\", \"pr\": \"50 rs\"}, \"10011\": {\"Name\": \"MilkyBar\", \"Qnt\": \"10 Grm\", \"Ctgry\": \"Chocolate\", \"pkt\": \"500\", \"pr\": \"20 rs\"}, \"10012\": {\"Name\": \"Cadbury Dairy Milk\", \"Qnt\": \"20 Grm\", \"Ctgry\": \"Chocolate\", \"pkt\": \"400\", \"pr\": \"20 rs\"}, \"10013\": {\"Name\": \"Oreo\", \"Qnt\": \"400 Grm\", \"Ctgry\": \"Biscuit\", \"pkt\": \"600\", \"pr\": \"120 rs\"}, \"10014\": {\"Name\": \"MilkBikis\", \"Qnt\": \"400 Grm\", \"Ctgry\": \"Biscuit\", \"pkt\": \"300\", \"pr\": \"140 rs\"}, \"10015\": {\"Name\": \"Tiger\", \"Qnt\": \"200 Grm\", \"Ctgry\": \"Biscuit\", \"pkt\": \"700\", \"pr\": \"150 rs\"}, \"10016\": {\"Name\": \"Sunfest\", \"Qnt\": \"200 Grm\", \"Ctgry\": \"Biscuit\", \"pkt\": \"600\", \"pice\": \"120 rs\"}, \"10017\": {\"Name\": \"Maggi\", \"Qnt\": \"40 Grm\", \"Ctgry\": \"Snacks\", \"pkt\": \"300\", \"pr\": \"12 rs\"}, \"10018\": {\"Name\": \"Kitkat\", \"Qnt\": \"40 Grm\", \"Ctgry\": \"Chocolate\", \"pkt\": \"600\", \"pr\": \"50 rs\"}, \"10019\": {\"Name\": \"Nescafe\", \"Qnt\": \"50 Grm\", \"Ctgry\": \"Bevarage\", \"pkt\": \"400\", \"pr\": \"170 rs\"}, \"10020\": {\"Name\": \"Bru\", \"Qnt\": \"10 Grm\", \"Ctgry\": \"Bevarage\", \"pkt\": \"500\", \"pr\": \"10 rs\"}, \"10021\": {\"Name\": \"Tata Tea Gold\", \"Qnt\": \"500 Grm\", \"Ctgry\": \"Bevarage\", \"pkt\": \"500\", \"pr\": \"250 rs\"}, \"10022\": {\"Name\": \"Tata Agani\", \"Qnt\": \"200 Grm\", \"Ctgry\": \"Bevarage\", \"pkt\": \"600\", \"pr\": \"180 rs\"}, \"10023\": {\"Name\": \"Tazza\", \"Qnt\": \"200 Grm\", \"Ctgry\": \"Bevarage\", \"pkt\": \"700\", \"pr\": \"190 rs\"}, \"10024\": {\"Name\": \"Lipton Green Tea\", \"Qnt\": \"100 Grm\", \"Ctgry\": \"Bevarage\", \"pkt\": \"300\", \"pr\": \"250 rs\"}, \"10025\": {\"Name\": \"Lipton Darzeling Tea\", \"Qnt\": \"100 Grm\", \"Ctgry\": \"Bevarage\", \"pkt\": \"400\", \"pr\": \"240 rs\"}, \"10026\": {\"Name\": \"Tetley\", \"Qnt\": \"250 Grm\", \"Ctgry\": \"Bevarage\", \"pkt\": \"300\", \"pr\": \"280 rs\"}, \"10027\": {\"Name\": \"Red level\", \"Qnt\": \"250 Grm\", \"Ctgry\": \"Beverage\", \"pkt\": \"400\", \"pr\": \"270 rs\"}, \"10028\": {\"Name\": \"Taj Mahal\", \"Qnt\": \"259 Grm\", \"Ctgry\": \"Beverage\", \"pkt\": \"500\", \"pr\": \"230 rs\"}, \"10029\": {\"Name\": \"5 Star\", \"Qnt\": \"40 Grm\", \"Ctgry\": \"Chocolate\", \"pkt\": \"300\", \"pr\": \"40 rs\"}, \"10030\": {\"Name\": \"Bounce\", \"Qnt\": \"200 Grm\", \"Ctgry\": \"Biscuit\", \"pkt\": \"700\", \"pr\": \"260 rs\"}}'"
      ]
     },
     "execution_count": 4,
     "metadata": {},
     "output_type": "execute_result"
    }
   ],
   "source": [
    "js"
   ]
  },
  {
   "cell_type": "code",
   "execution_count": 6,
   "id": "d5a8a8b7",
   "metadata": {},
   "outputs": [],
   "source": [
    "fd = open(\"records.json\", \"w\")\n",
    "\n",
    "fd.write(js)\n",
    "fd.close()"
   ]
  },
  {
   "cell_type": "code",
   "execution_count": 7,
   "id": "6ca63a45",
   "metadata": {},
   "outputs": [],
   "source": [
    "fd = open(\"records.json\", \"r\")\n",
    "\n",
    "txt = fd.read()\n",
    "fd.close()"
   ]
  },
  {
   "cell_type": "code",
   "execution_count": 8,
   "id": "3c2510d0",
   "metadata": {},
   "outputs": [],
   "source": [
    "records = json.loads(txt)"
   ]
  },
  {
   "cell_type": "code",
   "execution_count": 9,
   "id": "542b638f",
   "metadata": {},
   "outputs": [
    {
     "data": {
      "text/plain": [
       "{'10001': {'Name': 'ParleG',\n",
       "  'Qnt': '400 Grm',\n",
       "  'Ctgry': 'Biscuit',\n",
       "  'pkt': '300',\n",
       "  'pr': '80 rs'},\n",
       " '10002': {'Name': 'Marie Gold',\n",
       "  'Qnt': '400 Grm',\n",
       "  'Ctgry': 'Biscuit',\n",
       "  'pkt': '400',\n",
       "  'pr': '90 rs'},\n",
       " '10003': {'Name': 'Patanjali',\n",
       "  'Qnt': '400 Grm',\n",
       "  'Ctgry': 'Biscuit',\n",
       "  'pkt': '300',\n",
       "  'pr': '70 rs'},\n",
       " '10004': {'Name': 'Dark Fantasy',\n",
       "  'Qnt': '200 Grm',\n",
       "  'Ctgry': 'Biscuit',\n",
       "  'pkt': '400',\n",
       "  'pr': '69 rs'},\n",
       " '10005': {'Name': 'Balaji Simply salted chips',\n",
       "  'Qnt': '40 Grm',\n",
       "  'Ctgry': 'Chips',\n",
       "  'pkt': '500',\n",
       "  'pr': '40 rs'},\n",
       " '10006': {'Name': 'Halke Fulke',\n",
       "  'Qnt': '40 Grm',\n",
       "  'Ctgry': 'Chips',\n",
       "  'pkt': '400',\n",
       "  'pr': '40 rs'},\n",
       " '10007': {'Name': 'Chataka Pataka',\n",
       "  'Qnt': '20 Grm',\n",
       "  'Ctgry': 'Snacks',\n",
       "  'pkt': '400',\n",
       "  'pr': '20 rs'},\n",
       " '10008': {'Name': 'Kurkure',\n",
       "  'Qnt': '20 Grm',\n",
       "  'Ctgry': 'Snacks',\n",
       "  'pkt': '400',\n",
       "  'pr': '20 rs'},\n",
       " '10009': {'Name': 'Bingo',\n",
       "  'Qnt': '40 Grm',\n",
       "  'Ctgry': 'Chips',\n",
       "  'pkt': '300',\n",
       "  'pr': '40 rs'},\n",
       " '10010': {'Name': 'Cheese balls',\n",
       "  'Qnty': '40 Grm',\n",
       "  'Ctgry': 'Snacks',\n",
       "  'pkt': '400',\n",
       "  'pr': '50 rs'},\n",
       " '10011': {'Name': 'MilkyBar',\n",
       "  'Qnt': '10 Grm',\n",
       "  'Ctgry': 'Chocolate',\n",
       "  'pkt': '500',\n",
       "  'pr': '20 rs'},\n",
       " '10012': {'Name': 'Cadbury Dairy Milk',\n",
       "  'Qnt': '20 Grm',\n",
       "  'Ctgry': 'Chocolate',\n",
       "  'pkt': '400',\n",
       "  'pr': '20 rs'},\n",
       " '10013': {'Name': 'Oreo',\n",
       "  'Qnt': '400 Grm',\n",
       "  'Ctgry': 'Biscuit',\n",
       "  'pkt': '600',\n",
       "  'pr': '120 rs'},\n",
       " '10014': {'Name': 'MilkBikis',\n",
       "  'Qnt': '400 Grm',\n",
       "  'Ctgry': 'Biscuit',\n",
       "  'pkt': '300',\n",
       "  'pr': '140 rs'},\n",
       " '10015': {'Name': 'Tiger',\n",
       "  'Qnt': '200 Grm',\n",
       "  'Ctgry': 'Biscuit',\n",
       "  'pkt': '700',\n",
       "  'pr': '150 rs'},\n",
       " '10016': {'Name': 'Sunfest',\n",
       "  'Qnt': '200 Grm',\n",
       "  'Ctgry': 'Biscuit',\n",
       "  'pkt': '600',\n",
       "  'pice': '120 rs'},\n",
       " '10017': {'Name': 'Maggi',\n",
       "  'Qnt': '40 Grm',\n",
       "  'Ctgry': 'Snacks',\n",
       "  'pkt': '300',\n",
       "  'pr': '12 rs'},\n",
       " '10018': {'Name': 'Kitkat',\n",
       "  'Qnt': '40 Grm',\n",
       "  'Ctgry': 'Chocolate',\n",
       "  'pkt': '600',\n",
       "  'pr': '50 rs'},\n",
       " '10019': {'Name': 'Nescafe',\n",
       "  'Qnt': '50 Grm',\n",
       "  'Ctgry': 'Bevarage',\n",
       "  'pkt': '400',\n",
       "  'pr': '170 rs'},\n",
       " '10020': {'Name': 'Bru',\n",
       "  'Qnt': '10 Grm',\n",
       "  'Ctgry': 'Bevarage',\n",
       "  'pkt': '500',\n",
       "  'pr': '10 rs'},\n",
       " '10021': {'Name': 'Tata Tea Gold',\n",
       "  'Qnt': '500 Grm',\n",
       "  'Ctgry': 'Bevarage',\n",
       "  'pkt': '500',\n",
       "  'pr': '250 rs'},\n",
       " '10022': {'Name': 'Tata Agani',\n",
       "  'Qnt': '200 Grm',\n",
       "  'Ctgry': 'Bevarage',\n",
       "  'pkt': '600',\n",
       "  'pr': '180 rs'},\n",
       " '10023': {'Name': 'Tazza',\n",
       "  'Qnt': '200 Grm',\n",
       "  'Ctgry': 'Bevarage',\n",
       "  'pkt': '700',\n",
       "  'pr': '190 rs'},\n",
       " '10024': {'Name': 'Lipton Green Tea',\n",
       "  'Qnt': '100 Grm',\n",
       "  'Ctgry': 'Bevarage',\n",
       "  'pkt': '300',\n",
       "  'pr': '250 rs'},\n",
       " '10025': {'Name': 'Lipton Darzeling Tea',\n",
       "  'Qnt': '100 Grm',\n",
       "  'Ctgry': 'Bevarage',\n",
       "  'pkt': '400',\n",
       "  'pr': '240 rs'},\n",
       " '10026': {'Name': 'Tetley',\n",
       "  'Qnt': '250 Grm',\n",
       "  'Ctgry': 'Bevarage',\n",
       "  'pkt': '300',\n",
       "  'pr': '280 rs'},\n",
       " '10027': {'Name': 'Red level',\n",
       "  'Qnt': '250 Grm',\n",
       "  'Ctgry': 'Beverage',\n",
       "  'pkt': '400',\n",
       "  'pr': '270 rs'},\n",
       " '10028': {'Name': 'Taj Mahal',\n",
       "  'Qnt': '259 Grm',\n",
       "  'Ctgry': 'Beverage',\n",
       "  'pkt': '500',\n",
       "  'pr': '230 rs'},\n",
       " '10029': {'Name': '5 Star',\n",
       "  'Qnt': '40 Grm',\n",
       "  'Ctgry': 'Chocolate',\n",
       "  'pkt': '300',\n",
       "  'pr': '40 rs'},\n",
       " '10030': {'Name': 'Bounce',\n",
       "  'Qnt': '200 Grm',\n",
       "  'Ctgry': 'Biscuit',\n",
       "  'pkt': '700',\n",
       "  'pr': '260 rs'}}"
      ]
     },
     "execution_count": 9,
     "metadata": {},
     "output_type": "execute_result"
    }
   ],
   "source": [
    "records"
   ]
  },
  {
   "cell_type": "markdown",
   "id": "86eef6b2",
   "metadata": {},
   "source": [
    "# Adding New Item to Inventory"
   ]
  },
  {
   "cell_type": "code",
   "execution_count": 10,
   "id": "1bfd14e6",
   "metadata": {},
   "outputs": [
    {
     "name": "stdout",
     "output_type": "stream",
     "text": [
      "Enter Product Id:10031\n",
      "Enter the Name:Horlicks\n",
      "Enter the Qnt:200 Grm\n",
      "Enter the Ctgry:Health Drink\n",
      "Enter the pkt:300\n",
      "Enter the pr:250 rs\n"
     ]
    }
   ],
   "source": [
    "prod_id = str(input(\"Enter Product Id:\"))\n",
    "Name = str(input(\"Enter the Name:\"))\n",
    "Qnt = str(input(\"Enter the Qnt:\"))\n",
    "Ctgry = str(input(\"Enter the Ctgry:\"))\n",
    "pkt = int(input(\"Enter the pkt:\"))\n",
    "Pr = str(input(\"Enter the pr:\"))\n"
   ]
  },
  {
   "cell_type": "code",
   "execution_count": 11,
   "id": "c831703b",
   "metadata": {},
   "outputs": [],
   "source": [
    "records[prod_id] = {\"Name\" : Name , \"Qnt\" : Qnt , \"Ctgry\" : Ctgry , \"pkt\" : pkt , \"Pr\" : Pr}\n"
   ]
  },
  {
   "cell_type": "code",
   "execution_count": 12,
   "id": "906b9afc",
   "metadata": {},
   "outputs": [],
   "source": [
    "js = json.dumps(records)"
   ]
  },
  {
   "cell_type": "code",
   "execution_count": 13,
   "id": "831cc1c7",
   "metadata": {},
   "outputs": [],
   "source": [
    "fd = open(\"records.json\", \"w\")\n",
    "\n",
    "fd.write(js)\n",
    "fd.close()"
   ]
  },
  {
   "cell_type": "code",
   "execution_count": 14,
   "id": "4ffbebd4",
   "metadata": {},
   "outputs": [],
   "source": [
    "import json\n",
    "fd = open(\"records.json\", \"r\")\n",
    "\n",
    "txt = fd.read()\n",
    "fd.close()\n",
    "\n",
    "records = json.loads(txt)"
   ]
  },
  {
   "cell_type": "code",
   "execution_count": 15,
   "id": "06e6a455",
   "metadata": {},
   "outputs": [
    {
     "data": {
      "text/plain": [
       "{'10001': {'Name': 'ParleG',\n",
       "  'Qnt': '400 Grm',\n",
       "  'Ctgry': 'Biscuit',\n",
       "  'pkt': '300',\n",
       "  'pr': '80 rs'},\n",
       " '10002': {'Name': 'Marie Gold',\n",
       "  'Qnt': '400 Grm',\n",
       "  'Ctgry': 'Biscuit',\n",
       "  'pkt': '400',\n",
       "  'pr': '90 rs'},\n",
       " '10003': {'Name': 'Patanjali',\n",
       "  'Qnt': '400 Grm',\n",
       "  'Ctgry': 'Biscuit',\n",
       "  'pkt': '300',\n",
       "  'pr': '70 rs'},\n",
       " '10004': {'Name': 'Dark Fantasy',\n",
       "  'Qnt': '200 Grm',\n",
       "  'Ctgry': 'Biscuit',\n",
       "  'pkt': '400',\n",
       "  'pr': '69 rs'},\n",
       " '10005': {'Name': 'Balaji Simply salted chips',\n",
       "  'Qnt': '40 Grm',\n",
       "  'Ctgry': 'Chips',\n",
       "  'pkt': '500',\n",
       "  'pr': '40 rs'},\n",
       " '10006': {'Name': 'Halke Fulke',\n",
       "  'Qnt': '40 Grm',\n",
       "  'Ctgry': 'Chips',\n",
       "  'pkt': '400',\n",
       "  'pr': '40 rs'},\n",
       " '10007': {'Name': 'Chataka Pataka',\n",
       "  'Qnt': '20 Grm',\n",
       "  'Ctgry': 'Snacks',\n",
       "  'pkt': '400',\n",
       "  'pr': '20 rs'},\n",
       " '10008': {'Name': 'Kurkure',\n",
       "  'Qnt': '20 Grm',\n",
       "  'Ctgry': 'Snacks',\n",
       "  'pkt': '400',\n",
       "  'pr': '20 rs'},\n",
       " '10009': {'Name': 'Bingo',\n",
       "  'Qnt': '40 Grm',\n",
       "  'Ctgry': 'Chips',\n",
       "  'pkt': '300',\n",
       "  'pr': '40 rs'},\n",
       " '10010': {'Name': 'Cheese balls',\n",
       "  'Qnty': '40 Grm',\n",
       "  'Ctgry': 'Snacks',\n",
       "  'pkt': '400',\n",
       "  'pr': '50 rs'},\n",
       " '10011': {'Name': 'MilkyBar',\n",
       "  'Qnt': '10 Grm',\n",
       "  'Ctgry': 'Chocolate',\n",
       "  'pkt': '500',\n",
       "  'pr': '20 rs'},\n",
       " '10012': {'Name': 'Cadbury Dairy Milk',\n",
       "  'Qnt': '20 Grm',\n",
       "  'Ctgry': 'Chocolate',\n",
       "  'pkt': '400',\n",
       "  'pr': '20 rs'},\n",
       " '10013': {'Name': 'Oreo',\n",
       "  'Qnt': '400 Grm',\n",
       "  'Ctgry': 'Biscuit',\n",
       "  'pkt': '600',\n",
       "  'pr': '120 rs'},\n",
       " '10014': {'Name': 'MilkBikis',\n",
       "  'Qnt': '400 Grm',\n",
       "  'Ctgry': 'Biscuit',\n",
       "  'pkt': '300',\n",
       "  'pr': '140 rs'},\n",
       " '10015': {'Name': 'Tiger',\n",
       "  'Qnt': '200 Grm',\n",
       "  'Ctgry': 'Biscuit',\n",
       "  'pkt': '700',\n",
       "  'pr': '150 rs'},\n",
       " '10016': {'Name': 'Sunfest',\n",
       "  'Qnt': '200 Grm',\n",
       "  'Ctgry': 'Biscuit',\n",
       "  'pkt': '600',\n",
       "  'pice': '120 rs'},\n",
       " '10017': {'Name': 'Maggi',\n",
       "  'Qnt': '40 Grm',\n",
       "  'Ctgry': 'Snacks',\n",
       "  'pkt': '300',\n",
       "  'pr': '12 rs'},\n",
       " '10018': {'Name': 'Kitkat',\n",
       "  'Qnt': '40 Grm',\n",
       "  'Ctgry': 'Chocolate',\n",
       "  'pkt': '600',\n",
       "  'pr': '50 rs'},\n",
       " '10019': {'Name': 'Nescafe',\n",
       "  'Qnt': '50 Grm',\n",
       "  'Ctgry': 'Bevarage',\n",
       "  'pkt': '400',\n",
       "  'pr': '170 rs'},\n",
       " '10020': {'Name': 'Bru',\n",
       "  'Qnt': '10 Grm',\n",
       "  'Ctgry': 'Bevarage',\n",
       "  'pkt': '500',\n",
       "  'pr': '10 rs'},\n",
       " '10021': {'Name': 'Tata Tea Gold',\n",
       "  'Qnt': '500 Grm',\n",
       "  'Ctgry': 'Bevarage',\n",
       "  'pkt': '500',\n",
       "  'pr': '250 rs'},\n",
       " '10022': {'Name': 'Tata Agani',\n",
       "  'Qnt': '200 Grm',\n",
       "  'Ctgry': 'Bevarage',\n",
       "  'pkt': '600',\n",
       "  'pr': '180 rs'},\n",
       " '10023': {'Name': 'Tazza',\n",
       "  'Qnt': '200 Grm',\n",
       "  'Ctgry': 'Bevarage',\n",
       "  'pkt': '700',\n",
       "  'pr': '190 rs'},\n",
       " '10024': {'Name': 'Lipton Green Tea',\n",
       "  'Qnt': '100 Grm',\n",
       "  'Ctgry': 'Bevarage',\n",
       "  'pkt': '300',\n",
       "  'pr': '250 rs'},\n",
       " '10025': {'Name': 'Lipton Darzeling Tea',\n",
       "  'Qnt': '100 Grm',\n",
       "  'Ctgry': 'Bevarage',\n",
       "  'pkt': '400',\n",
       "  'pr': '240 rs'},\n",
       " '10026': {'Name': 'Tetley',\n",
       "  'Qnt': '250 Grm',\n",
       "  'Ctgry': 'Bevarage',\n",
       "  'pkt': '300',\n",
       "  'pr': '280 rs'},\n",
       " '10027': {'Name': 'Red level',\n",
       "  'Qnt': '250 Grm',\n",
       "  'Ctgry': 'Beverage',\n",
       "  'pkt': '400',\n",
       "  'pr': '270 rs'},\n",
       " '10028': {'Name': 'Taj Mahal',\n",
       "  'Qnt': '259 Grm',\n",
       "  'Ctgry': 'Beverage',\n",
       "  'pkt': '500',\n",
       "  'pr': '230 rs'},\n",
       " '10029': {'Name': '5 Star',\n",
       "  'Qnt': '40 Grm',\n",
       "  'Ctgry': 'Chocolate',\n",
       "  'pkt': '300',\n",
       "  'pr': '40 rs'},\n",
       " '10030': {'Name': 'Bounce',\n",
       "  'Qnt': '200 Grm',\n",
       "  'Ctgry': 'Biscuit',\n",
       "  'pkt': '700',\n",
       "  'pr': '260 rs'},\n",
       " '10031': {'Name': 'Horlicks',\n",
       "  'Qnt': '200 Grm',\n",
       "  'Ctgry': 'Health Drink',\n",
       "  'pkt': 300,\n",
       "  'Pr': '250 rs'}}"
      ]
     },
     "execution_count": 15,
     "metadata": {},
     "output_type": "execute_result"
    }
   ],
   "source": [
    "records"
   ]
  },
  {
   "cell_type": "code",
   "execution_count": 16,
   "id": "44dda8c7",
   "metadata": {},
   "outputs": [
    {
     "name": "stdout",
     "output_type": "stream",
     "text": [
      "Enter the prod_id:10031\n",
      "Enter the pkt :1\n",
      "Product : Horlicks\n",
      "Price : 250 rs\n",
      "Billing Amount : 250 rs\n"
     ]
    }
   ],
   "source": [
    "ui_prod = str(input(\"Enter the prod_id:\"))\n",
    "ui_pkt = int(input(\"Enter the pkt :\"))\n",
    "\n",
    "print(\"Product :\" , records[ui_prod][\"Name\"])\n",
    "print(\"Price :\" , records[ui_prod][\"Pr\"])\n",
    "print(\"Billing Amount :\" , records[ui_prod][\"Pr\"]* ui_pkt)\n"
   ]
  },
  {
   "cell_type": "code",
   "execution_count": 17,
   "id": "ef3ff7d7",
   "metadata": {},
   "outputs": [],
   "source": [
    "records[ui_prod][\"pkt\"] = records[ui_prod][\"pkt\"] - ui_pkt"
   ]
  },
  {
   "cell_type": "code",
   "execution_count": 18,
   "id": "64439779",
   "metadata": {},
   "outputs": [
    {
     "data": {
      "text/plain": [
       "{'10001': {'Name': 'ParleG',\n",
       "  'Qnt': '400 Grm',\n",
       "  'Ctgry': 'Biscuit',\n",
       "  'pkt': '300',\n",
       "  'pr': '80 rs'},\n",
       " '10002': {'Name': 'Marie Gold',\n",
       "  'Qnt': '400 Grm',\n",
       "  'Ctgry': 'Biscuit',\n",
       "  'pkt': '400',\n",
       "  'pr': '90 rs'},\n",
       " '10003': {'Name': 'Patanjali',\n",
       "  'Qnt': '400 Grm',\n",
       "  'Ctgry': 'Biscuit',\n",
       "  'pkt': '300',\n",
       "  'pr': '70 rs'},\n",
       " '10004': {'Name': 'Dark Fantasy',\n",
       "  'Qnt': '200 Grm',\n",
       "  'Ctgry': 'Biscuit',\n",
       "  'pkt': '400',\n",
       "  'pr': '69 rs'},\n",
       " '10005': {'Name': 'Balaji Simply salted chips',\n",
       "  'Qnt': '40 Grm',\n",
       "  'Ctgry': 'Chips',\n",
       "  'pkt': '500',\n",
       "  'pr': '40 rs'},\n",
       " '10006': {'Name': 'Halke Fulke',\n",
       "  'Qnt': '40 Grm',\n",
       "  'Ctgry': 'Chips',\n",
       "  'pkt': '400',\n",
       "  'pr': '40 rs'},\n",
       " '10007': {'Name': 'Chataka Pataka',\n",
       "  'Qnt': '20 Grm',\n",
       "  'Ctgry': 'Snacks',\n",
       "  'pkt': '400',\n",
       "  'pr': '20 rs'},\n",
       " '10008': {'Name': 'Kurkure',\n",
       "  'Qnt': '20 Grm',\n",
       "  'Ctgry': 'Snacks',\n",
       "  'pkt': '400',\n",
       "  'pr': '20 rs'},\n",
       " '10009': {'Name': 'Bingo',\n",
       "  'Qnt': '40 Grm',\n",
       "  'Ctgry': 'Chips',\n",
       "  'pkt': '300',\n",
       "  'pr': '40 rs'},\n",
       " '10010': {'Name': 'Cheese balls',\n",
       "  'Qnty': '40 Grm',\n",
       "  'Ctgry': 'Snacks',\n",
       "  'pkt': '400',\n",
       "  'pr': '50 rs'},\n",
       " '10011': {'Name': 'MilkyBar',\n",
       "  'Qnt': '10 Grm',\n",
       "  'Ctgry': 'Chocolate',\n",
       "  'pkt': '500',\n",
       "  'pr': '20 rs'},\n",
       " '10012': {'Name': 'Cadbury Dairy Milk',\n",
       "  'Qnt': '20 Grm',\n",
       "  'Ctgry': 'Chocolate',\n",
       "  'pkt': '400',\n",
       "  'pr': '20 rs'},\n",
       " '10013': {'Name': 'Oreo',\n",
       "  'Qnt': '400 Grm',\n",
       "  'Ctgry': 'Biscuit',\n",
       "  'pkt': '600',\n",
       "  'pr': '120 rs'},\n",
       " '10014': {'Name': 'MilkBikis',\n",
       "  'Qnt': '400 Grm',\n",
       "  'Ctgry': 'Biscuit',\n",
       "  'pkt': '300',\n",
       "  'pr': '140 rs'},\n",
       " '10015': {'Name': 'Tiger',\n",
       "  'Qnt': '200 Grm',\n",
       "  'Ctgry': 'Biscuit',\n",
       "  'pkt': '700',\n",
       "  'pr': '150 rs'},\n",
       " '10016': {'Name': 'Sunfest',\n",
       "  'Qnt': '200 Grm',\n",
       "  'Ctgry': 'Biscuit',\n",
       "  'pkt': '600',\n",
       "  'pice': '120 rs'},\n",
       " '10017': {'Name': 'Maggi',\n",
       "  'Qnt': '40 Grm',\n",
       "  'Ctgry': 'Snacks',\n",
       "  'pkt': '300',\n",
       "  'pr': '12 rs'},\n",
       " '10018': {'Name': 'Kitkat',\n",
       "  'Qnt': '40 Grm',\n",
       "  'Ctgry': 'Chocolate',\n",
       "  'pkt': '600',\n",
       "  'pr': '50 rs'},\n",
       " '10019': {'Name': 'Nescafe',\n",
       "  'Qnt': '50 Grm',\n",
       "  'Ctgry': 'Bevarage',\n",
       "  'pkt': '400',\n",
       "  'pr': '170 rs'},\n",
       " '10020': {'Name': 'Bru',\n",
       "  'Qnt': '10 Grm',\n",
       "  'Ctgry': 'Bevarage',\n",
       "  'pkt': '500',\n",
       "  'pr': '10 rs'},\n",
       " '10021': {'Name': 'Tata Tea Gold',\n",
       "  'Qnt': '500 Grm',\n",
       "  'Ctgry': 'Bevarage',\n",
       "  'pkt': '500',\n",
       "  'pr': '250 rs'},\n",
       " '10022': {'Name': 'Tata Agani',\n",
       "  'Qnt': '200 Grm',\n",
       "  'Ctgry': 'Bevarage',\n",
       "  'pkt': '600',\n",
       "  'pr': '180 rs'},\n",
       " '10023': {'Name': 'Tazza',\n",
       "  'Qnt': '200 Grm',\n",
       "  'Ctgry': 'Bevarage',\n",
       "  'pkt': '700',\n",
       "  'pr': '190 rs'},\n",
       " '10024': {'Name': 'Lipton Green Tea',\n",
       "  'Qnt': '100 Grm',\n",
       "  'Ctgry': 'Bevarage',\n",
       "  'pkt': '300',\n",
       "  'pr': '250 rs'},\n",
       " '10025': {'Name': 'Lipton Darzeling Tea',\n",
       "  'Qnt': '100 Grm',\n",
       "  'Ctgry': 'Bevarage',\n",
       "  'pkt': '400',\n",
       "  'pr': '240 rs'},\n",
       " '10026': {'Name': 'Tetley',\n",
       "  'Qnt': '250 Grm',\n",
       "  'Ctgry': 'Bevarage',\n",
       "  'pkt': '300',\n",
       "  'pr': '280 rs'},\n",
       " '10027': {'Name': 'Red level',\n",
       "  'Qnt': '250 Grm',\n",
       "  'Ctgry': 'Beverage',\n",
       "  'pkt': '400',\n",
       "  'pr': '270 rs'},\n",
       " '10028': {'Name': 'Taj Mahal',\n",
       "  'Qnt': '259 Grm',\n",
       "  'Ctgry': 'Beverage',\n",
       "  'pkt': '500',\n",
       "  'pr': '230 rs'},\n",
       " '10029': {'Name': '5 Star',\n",
       "  'Qnt': '40 Grm',\n",
       "  'Ctgry': 'Chocolate',\n",
       "  'pkt': '300',\n",
       "  'pr': '40 rs'},\n",
       " '10030': {'Name': 'Bounce',\n",
       "  'Qnt': '200 Grm',\n",
       "  'Ctgry': 'Biscuit',\n",
       "  'pkt': '700',\n",
       "  'pr': '260 rs'},\n",
       " '10031': {'Name': 'Horlicks',\n",
       "  'Qnt': '200 Grm',\n",
       "  'Ctgry': 'Health Drink',\n",
       "  'pkt': 299,\n",
       "  'Pr': '250 rs'}}"
      ]
     },
     "execution_count": 18,
     "metadata": {},
     "output_type": "execute_result"
    }
   ],
   "source": [
    "records"
   ]
  },
  {
   "cell_type": "code",
   "execution_count": 19,
   "id": "9f5d52d8",
   "metadata": {},
   "outputs": [],
   "source": [
    "js = json.dumps(records)\n",
    "\n",
    "fd = open(\"records.json\", \"w\")\n",
    "\n",
    "fd.write(js)\n",
    "fd.close()"
   ]
  },
  {
   "cell_type": "markdown",
   "id": "7cf969cd",
   "metadata": {},
   "source": [
    "# Sales"
   ]
  },
  {
   "cell_type": "code",
   "execution_count": 20,
   "id": "75ddaf6d",
   "metadata": {},
   "outputs": [
    {
     "data": {
      "text/plain": [
       "{'prod': '10031', 'pkt': 1, 'amount': '250 rs'}"
      ]
     },
     "execution_count": 20,
     "metadata": {},
     "output_type": "execute_result"
    }
   ],
   "source": [
    "{\"prod\" : ui_prod , \"pkt\" : ui_pkt , \"amount\" : records[ui_prod][\"Pr\"] * ui_pkt}"
   ]
  },
  {
   "cell_type": "code",
   "execution_count": 21,
   "id": "4f15bb13",
   "metadata": {},
   "outputs": [],
   "source": [
    "sales = { 1 : {\"prod\" : ui_prod , \"pkt\" : ui_pkt , \"amount\" : records[ui_prod][\"Pr\"] * ui_pkt} , \n",
    "          2 : {\"prod\" : ui_prod , \"pkt\" : ui_pkt , \"amount\" : records[ui_prod][\"Pr\"] * ui_pkt} ,\n",
    "          3 : {\"prod\" : ui_prod , \"pkt\" : ui_pkt , \"amount\" : records[ui_prod][\"Pr\"] * ui_pkt}}"
   ]
  },
  {
   "cell_type": "code",
   "execution_count": 22,
   "id": "4908b0f0",
   "metadata": {},
   "outputs": [
    {
     "data": {
      "text/plain": [
       "'{\"1\": {\"prod\": \"10031\", \"pkt\": 1, \"amount\": \"250 rs\"}, \"2\": {\"prod\": \"10031\", \"pkt\": 1, \"amount\": \"250 rs\"}, \"3\": {\"prod\": \"10031\", \"pkt\": 1, \"amount\": \"250 rs\"}}'"
      ]
     },
     "execution_count": 22,
     "metadata": {},
     "output_type": "execute_result"
    }
   ],
   "source": [
    "json.dumps(sales)"
   ]
  },
  {
   "cell_type": "code",
   "execution_count": 23,
   "id": "d8ec00bd",
   "metadata": {},
   "outputs": [],
   "source": [
    "fd = open(\"records.json\", \"r\")\n",
    "\n",
    "txt = fd.read()\n",
    "fd.close()"
   ]
  },
  {
   "cell_type": "code",
   "execution_count": 24,
   "id": "7376e4e8",
   "metadata": {},
   "outputs": [
    {
     "data": {
      "text/plain": [
       "{4: {'prod': '10031', 'pkt': 1, 'amount': '250 rs'}}"
      ]
     },
     "execution_count": 24,
     "metadata": {},
     "output_type": "execute_result"
    }
   ],
   "source": [
    "{(len(sales) + 1) : {\"prod\" : ui_prod , \"pkt\" : ui_pkt , \"amount\" : records[ui_prod][\"Pr\"] * ui_pkt}}"
   ]
  },
  {
   "cell_type": "code",
   "execution_count": 25,
   "id": "7b9d10fa",
   "metadata": {},
   "outputs": [],
   "source": [
    "sales[(len(sales) + 1)] = {\"prod\" : ui_prod , \"pkt\" : ui_pkt , \"amount\" : records[ui_prod][\"Pr\"] * ui_pkt}"
   ]
  },
  {
   "cell_type": "code",
   "execution_count": 26,
   "id": "f8956742",
   "metadata": {},
   "outputs": [
    {
     "data": {
      "text/plain": [
       "{1: {'prod': '10031', 'pkt': 1, 'amount': '250 rs'},\n",
       " 2: {'prod': '10031', 'pkt': 1, 'amount': '250 rs'},\n",
       " 3: {'prod': '10031', 'pkt': 1, 'amount': '250 rs'},\n",
       " 4: {'prod': '10031', 'pkt': 1, 'amount': '250 rs'}}"
      ]
     },
     "execution_count": 26,
     "metadata": {},
     "output_type": "execute_result"
    }
   ],
   "source": [
    "sales"
   ]
  },
  {
   "cell_type": "code",
   "execution_count": null,
   "id": "7eceec9c",
   "metadata": {},
   "outputs": [],
   "source": []
  }
 ],
 "metadata": {
  "kernelspec": {
   "display_name": "Python 3",
   "language": "python",
   "name": "python3"
  },
  "language_info": {
   "codemirror_mode": {
    "name": "ipython",
    "version": 3
   },
   "file_extension": ".py",
   "mimetype": "text/x-python",
   "name": "python",
   "nbconvert_exporter": "python",
   "pygments_lexer": "ipython3",
   "version": "3.8.8"
  }
 },
 "nbformat": 4,
 "nbformat_minor": 5
}
